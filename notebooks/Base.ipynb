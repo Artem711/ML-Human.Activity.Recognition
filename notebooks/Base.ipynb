{
 "cells": [
  {
   "cell_type": "markdown",
   "id": "0cc985c5",
   "metadata": {},
   "source": [
    "## Business: Business problem"
   ]
  },
  {
   "cell_type": "markdown",
   "id": "f6eac724",
   "metadata": {},
   "source": [
    "## Business: Data Science Lifecycle"
   ]
  },
  {
   "cell_type": "markdown",
   "id": "d76402fb",
   "metadata": {},
   "source": [
    "## Practical: (Importing and Understanding) the data"
   ]
  },
  {
   "cell_type": "markdown",
   "id": "e638a815",
   "metadata": {},
   "source": [
    "## Practical: EDA - Univariate analysis"
   ]
  },
  {
   "cell_type": "markdown",
   "id": "d0654228",
   "metadata": {},
   "source": [
    "## Practical: EDA - Bivariate analysis"
   ]
  },
  {
   "cell_type": "markdown",
   "id": "21985faa",
   "metadata": {},
   "source": [
    "## Practical: EDA - Visualisation"
   ]
  },
  {
   "cell_type": "markdown",
   "id": "30e34c0f",
   "metadata": {},
   "source": [
    "## Practical: Data preparation"
   ]
  },
  {
   "cell_type": "markdown",
   "id": "e5c3cac3",
   "metadata": {},
   "source": [
    "## Practical: Normalisation"
   ]
  },
  {
   "cell_type": "markdown",
   "id": "5c0b6a43",
   "metadata": {},
   "source": [
    "## Practical: Principal Component Analysis"
   ]
  },
  {
   "cell_type": "markdown",
   "id": "8ed8f6b3",
   "metadata": {},
   "source": [
    "## Practical: Model building"
   ]
  },
  {
   "cell_type": "markdown",
   "id": "7c8f8698",
   "metadata": {},
   "source": [
    "## Practical: Hyperparameter tuning"
   ]
  },
  {
   "cell_type": "markdown",
   "id": "8ebe26b2",
   "metadata": {},
   "source": [
    "## Practical: Model evaluation"
   ]
  },
  {
   "cell_type": "markdown",
   "id": "ef232659",
   "metadata": {},
   "source": [
    "## Practical: Deployment with Flask"
   ]
  }
 ],
 "metadata": {
  "kernelspec": {
   "display_name": "Python 3 (ipykernel)",
   "language": "python",
   "name": "python3"
  },
  "language_info": {
   "codemirror_mode": {
    "name": "ipython",
    "version": 3
   },
   "file_extension": ".py",
   "mimetype": "text/x-python",
   "name": "python",
   "nbconvert_exporter": "python",
   "pygments_lexer": "ipython3",
   "version": "3.9.12"
  }
 },
 "nbformat": 4,
 "nbformat_minor": 5
}
